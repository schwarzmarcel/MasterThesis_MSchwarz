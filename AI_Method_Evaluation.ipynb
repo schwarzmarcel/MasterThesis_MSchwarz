{
  "nbformat": 4,
  "nbformat_minor": 0,
  "metadata": {
    "colab": {
      "name": "AI Method Evaluation.ipynb",
      "provenance": [],
      "collapsed_sections": [],
      "mount_file_id": "1S7ypIuIgaSIMN5z8mzIydX_f9V5RQTWa",
      "authorship_tag": "ABX9TyM9h9+2kPfgyEo5C5yF3NRp",
      "include_colab_link": true
    },
    "kernelspec": {
      "name": "python3",
      "display_name": "Python 3"
    },
    "language_info": {
      "name": "python"
    }
  },
  "cells": [
    {
      "cell_type": "markdown",
      "metadata": {
        "id": "view-in-github",
        "colab_type": "text"
      },
      "source": [
        "<a href=\"https://colab.research.google.com/github/schwarzmarcel/MasterThesis_MSchwarz/blob/main/AI_Method_Evaluation.ipynb\" target=\"_parent\"><img src=\"https://colab.research.google.com/assets/colab-badge.svg\" alt=\"Open In Colab\"/></a>"
      ]
    },
    {
      "cell_type": "markdown",
      "metadata": {
        "id": "j8GEsAxEQP_N"
      },
      "source": [
        "# Import necessary libraries\n"
      ]
    },
    {
      "cell_type": "code",
      "metadata": {
        "id": "UraBO-hSD1fc"
      },
      "source": [
        "import pandas as pd\n",
        "import numpy as np\n",
        "import json\n",
        "import codecs\n",
        "import re"
      ],
      "execution_count": null,
      "outputs": []
    },
    {
      "cell_type": "markdown",
      "metadata": {
        "id": "7w9YgNPoQTom"
      },
      "source": [
        "# Build AI methods list\n",
        "\n",
        "\n",
        "*   load the text file with the AI methods\n",
        "*   build a python list containing the terms and synonyms\n",
        "\n"
      ]
    },
    {
      "cell_type": "code",
      "metadata": {
        "id": "o58yWQdgEkgl"
      },
      "source": [
        "ai_method_file = \"ai_method_list.txt\""
      ],
      "execution_count": null,
      "outputs": []
    },
    {
      "cell_type": "code",
      "metadata": {
        "id": "k1z_o4YoEHPM"
      },
      "source": [
        "def build_method_list(ai_method_file):\n",
        "  with codecs.open(ai_method_file, \"r\", encoding=\"utf8\") as f_in:\n",
        "    ai_methods = f_in.read().split(\"\\n\")\n",
        "    method_list = list()\n",
        "\n",
        "    for term in ai_methods:\n",
        "      values = term.split(\" | \")\n",
        "      terms = list()\n",
        "      terms.append(values[0].replace(\"-\", \" \").lower())\n",
        "      values[1] = values[1].strip(\"\\r\")\n",
        "      if values[1] != \"\":\n",
        "        for synonym in values[1].split(\",\"):\n",
        "          terms.append(synonym)\n",
        "      #print(terms)\n",
        "      method_list.append(terms)\n",
        "      \n",
        "  f_in.close()\n",
        "\n",
        "  return method_list"
      ],
      "execution_count": null,
      "outputs": []
    },
    {
      "cell_type": "markdown",
      "metadata": {
        "id": "JaL3JgJBQoEt"
      },
      "source": [
        "# Define methods to search terms within a text\n"
      ]
    },
    {
      "cell_type": "code",
      "metadata": {
        "id": "AqowCP4cO4Ek"
      },
      "source": [
        "def search_term(text, term):\n",
        "  for synonym in term:\n",
        "     if text.__contains__(synonym):\n",
        "       return True\n",
        "  return False"
      ],
      "execution_count": null,
      "outputs": []
    },
    {
      "cell_type": "code",
      "metadata": {
        "id": "ximEzxI5F-a5"
      },
      "source": [
        "def search_methods(text, method_list):\n",
        "  text = text.lower().replace(\",\", \"\").replace(\".\", \"\").replace(\"-\", \" \")\n",
        "  found_terms = list()\n",
        "  for term in method_list:\n",
        "    if search_term(text, term):\n",
        "      found_terms.append(term)\n",
        "\n",
        "  return(found_terms)"
      ],
      "execution_count": null,
      "outputs": []
    },
    {
      "cell_type": "markdown",
      "metadata": {
        "id": "oQ-SGylfQ5RD"
      },
      "source": [
        "# Measure percentage of AI terms found within the summary\n",
        "\n",
        "To do this, you simply need a source text and a target text to measure the overlap of methods. The following code snippet can be used with a dataframe that contains the abstract texts, gold summaries and predicted summaries. First the source text (either abstract or gold summary, depending on the metric), is searched for terms. Then, all the terms which were found are searched in the generated summary to calculate how many terms where included."
      ]
    },
    {
      "cell_type": "code",
      "metadata": {
        "id": "Jy8t6XRSXCMx"
      },
      "source": [
        "method_list = build_method_list(ai_method_file)\n",
        "all_terms = 0\n",
        "all_hits = 0\n",
        "\n",
        "for i in range(df.PMID.size):\n",
        "\n",
        "  sentences = df.iloc[i, 1]\n",
        "  abstract = \" \".join(sentences)\n",
        "\n",
        "  gold_summary = list()\n",
        "  for n, idx in enumerate(df.iloc[i, 3]):\n",
        "    if idx == 1:\n",
        "      gold_summary.append(sentences[n])\n",
        "  gold_summary = \" \".join(gold_summary)\n",
        "\n",
        "  summary = list()\n",
        "  for n, idx in enumerate(df.iloc[i, 8]):\n",
        "    if idx == 1:\n",
        "      summary.append(sentences[n])\n",
        "  summary = \" \".join(summary)\n",
        "\n",
        "  found_terms = search_methods(abstract, method_list) # search_methods(gold_summary, method_list)\n",
        "  hits = search_methods(summary, found_terms)\n",
        "  all_terms += len(found_terms)\n",
        "  all_hits += len(hits)\n",
        "\n",
        "print(all_terms)\n",
        "print(all_hits / all_terms)"
      ],
      "execution_count": null,
      "outputs": []
    }
  ]
}